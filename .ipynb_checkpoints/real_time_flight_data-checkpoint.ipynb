{
 "cells": [
  {
   "cell_type": "code",
   "execution_count": 1,
   "id": "c1154e76-ea1b-4b82-b891-e095d32e649f",
   "metadata": {},
   "outputs": [],
   "source": [
    "# Using Aviation Edge and OpenSky APIs for historical data analysis"
   ]
  },
  {
   "cell_type": "code",
   "execution_count": 2,
   "id": "9fefc977-1775-44fa-a033-b5517e162e0f",
   "metadata": {},
   "outputs": [],
   "source": [
    "# Importing modules\n",
    "\n",
    "import requests\n",
    "import pandas as pd\n",
    "import nest_asyncio\n",
    "import asyncio\n",
    "from datetime import datetime, timedelta\n",
    "import time"
   ]
  },
  {
   "cell_type": "code",
   "execution_count": 7,
   "id": "c90b4d2a-6af1-4ac5-bb2d-7fd13604d74b",
   "metadata": {},
   "outputs": [
    {
     "name": "stdout",
     "output_type": "stream",
     "text": [
      "Collected 105 current Air Canada flights\n",
      "                     timestamp callsign  icao24  longitude  latitude  \\\n",
      "0   2025-06-28 15:28:34.032522  ACA1307  c07c7b   -81.5757   38.9054   \n",
      "1   2025-06-28 15:28:34.032522  ACA1072  c07c7a   -84.0518   43.1581   \n",
      "2   2025-06-28 15:28:34.032522  ACA1040  c07e2c  -100.8080   40.5027   \n",
      "3   2025-06-28 15:28:34.032522   ACA775  c07e33  -117.7902   33.9965   \n",
      "4   2025-06-28 15:28:34.032522   ACA839  c0103e  -123.6657   49.7330   \n",
      "..                         ...      ...     ...        ...       ...   \n",
      "100 2025-06-28 15:28:34.032522   ACA548  c04ff7   -99.0061   48.8026   \n",
      "101 2025-06-28 15:28:34.032522   ACA825  c04fe4   -73.5635   45.9254   \n",
      "102 2025-06-28 15:28:34.032522  ACA1048  c00700  -100.4934   44.5443   \n",
      "103 2025-06-28 15:28:34.032522   ACA608  c005c5   -71.9836   43.8355   \n",
      "104 2025-06-28 15:28:34.032522   ACA210  c006ec  -114.4002   50.8005   \n",
      "\n",
      "     altitude  velocity  heading  vertical_rate  on_ground  \n",
      "0    10965.18    243.42   207.16           0.00      False  \n",
      "1     9730.74    237.13    83.52          -5.20      False  \n",
      "2    10728.96    239.19    75.93           2.28      False  \n",
      "3     2735.58    148.68   263.24          -7.80      False  \n",
      "4     4655.82    191.43   152.82          -7.80      False  \n",
      "..        ...       ...      ...            ...        ...  \n",
      "100  11277.60    278.38    86.29           0.00      False  \n",
      "101  11582.40    210.19   251.30           0.00      False  \n",
      "102  10675.62    246.58   111.16           0.00      False  \n",
      "103  10675.62    262.02    79.02           0.00      False  \n",
      "104   2895.60    155.07    63.60          -2.93      False  \n",
      "\n",
      "[105 rows x 10 columns]\n"
     ]
    }
   ],
   "source": [
    "# Setting up OpenSky\n",
    "\n",
    "from python_opensky import OpenSky\n",
    "nest_asyncio.apply()\n",
    "\n",
    "class AirCanadaDataCollector:\n",
    "    def __init__(self):\n",
    "        self.flight_data = []\n",
    "        self.historical_data = pd.DataFrame()\n",
    "    \n",
    "    async def collect_realtime_flights(self):\n",
    "        \"\"\"Collects current Air Canada flight data\"\"\"\n",
    "        async with OpenSky() as opensky:\n",
    "            \n",
    "            # Getting most recent flight data\n",
    "            states = await opensky.get_states()\n",
    "            \n",
    "            ac_flights = []\n",
    "\n",
    "            # Filtering for Air Canada flights only\n",
    "            for state in states.states:\n",
    "                if state.callsign and state.callsign.strip().startswith('ACA'):\n",
    "                    flight_info = {\n",
    "                        'timestamp': datetime.now(),\n",
    "                        'callsign': state.callsign.strip(),\n",
    "                        'icao24': state.icao24,\n",
    "                        'longitude': state.longitude,\n",
    "                        'latitude': state.latitude,\n",
    "                        'altitude': state.barometric_altitude,\n",
    "                        'velocity': state.velocity,\n",
    "                        'heading': state.true_track,\n",
    "                        'vertical_rate': state.vertical_rate,\n",
    "                        'on_ground': state.on_ground\n",
    "                    }\n",
    "\n",
    "                    # Adds the current Air Canada flights to the list\n",
    "                    ac_flights.append(flight_info)\n",
    "            \n",
    "            return pd.DataFrame(ac_flights)\n",
    "    \n",
    "    async def collect_historical_flights(self, start_time, end_time):\n",
    "        \"\"\"Collects historical flight data for a specific time range\"\"\"\n",
    "        async with OpenSky() as opensky:\n",
    "            # OpenSky provides historical data access\n",
    "            flights = await opensky.get_flights_by_aircraft(\n",
    "                begin=int(start_time.timestamp()),\n",
    "                end=int(end_time.timestamp())\n",
    "            )\n",
    "            return flights\n",
    "\n",
    "# Initializes collector object\n",
    "collector = AirCanadaDataCollector()\n",
    "\n",
    "# Collectes current flights\n",
    "current_flights = await collector.collect_realtime_flights()\n",
    "print(f\"Collected {len(current_flights)} current Air Canada flights\")\n",
    "print(current_flights)"
   ]
  },
  {
   "cell_type": "code",
   "execution_count": null,
   "id": "4adbac66-9a07-49a9-a016-d17466a77978",
   "metadata": {},
   "outputs": [],
   "source": []
  }
 ],
 "metadata": {
  "kernelspec": {
   "display_name": "Python (env)",
   "language": "python",
   "name": "env"
  },
  "language_info": {
   "codemirror_mode": {
    "name": "ipython",
    "version": 3
   },
   "file_extension": ".py",
   "mimetype": "text/x-python",
   "name": "python",
   "nbconvert_exporter": "python",
   "pygments_lexer": "ipython3",
   "version": "3.10.11"
  }
 },
 "nbformat": 4,
 "nbformat_minor": 5
}

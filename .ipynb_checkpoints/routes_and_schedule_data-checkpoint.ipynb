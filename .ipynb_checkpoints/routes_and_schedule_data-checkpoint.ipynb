{
 "cells": [
  {
   "cell_type": "code",
   "execution_count": 3,
   "id": "eb27b9b1-b0f5-498d-92a8-d1ac35e1c484",
   "metadata": {},
   "outputs": [],
   "source": [
    "# Importing modules\n",
    "\n",
    "import requests\n",
    "import json"
   ]
  },
  {
   "cell_type": "code",
   "execution_count": null,
   "id": "94657e31-8811-44ab-b9ed-c243715d9aec",
   "metadata": {},
   "outputs": [],
   "source": [
    "class AirCanadaRoute:\n",
    "    def __init__(self):\n",
    "        \"\"\"Gets airport traffic data from Statistics Canada\"\"\"\n",
    "        # pass\n",
    "\n",
    "    def get_airport_data(self):\n",
    "        \"\"\"Identifies highest traffic routes for analysis\"\"\"\n",
    "        # pass\n",
    "\n",
    "    def identify_high_traffic_routes(self):\n",
    "        # pass"
   ]
  }
 ],
 "metadata": {
  "kernelspec": {
   "display_name": "Python (env)",
   "language": "python",
   "name": "env"
  },
  "language_info": {
   "codemirror_mode": {
    "name": "ipython",
    "version": 3
   },
   "file_extension": ".py",
   "mimetype": "text/x-python",
   "name": "python",
   "nbconvert_exporter": "python",
   "pygments_lexer": "ipython3",
   "version": "3.10.11"
  }
 },
 "nbformat": 4,
 "nbformat_minor": 5
}

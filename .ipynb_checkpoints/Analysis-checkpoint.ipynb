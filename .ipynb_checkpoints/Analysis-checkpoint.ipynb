{
 "cells": [
  {
   "cell_type": "code",
   "execution_count": 19,
   "id": "c1154e76-ea1b-4b82-b891-e095d32e649f",
   "metadata": {},
   "outputs": [],
   "source": [
    "# Using Aviation Edge and OpenSky APIs for historical data analysis"
   ]
  },
  {
   "cell_type": "code",
   "execution_count": 33,
   "id": "9fefc977-1775-44fa-a033-b5517e162e0f",
   "metadata": {},
   "outputs": [],
   "source": [
    "# Importing modules\n",
    "\n",
    "import requests\n",
    "import pandas as pd\n",
    "import nest_asyncio\n",
    "import asyncio\n",
    "from datetime import datetime, timedelta\n",
    "import time"
   ]
  },
  {
   "cell_type": "code",
   "execution_count": 37,
   "id": "c90b4d2a-6af1-4ac5-bb2d-7fd13604d74b",
   "metadata": {},
   "outputs": [
    {
     "name": "stdout",
     "output_type": "stream",
     "text": [
      "Found 86 Air Canada flights currently in the air\n"
     ]
    },
    {
     "data": {
      "text/html": [
       "<div>\n",
       "<style scoped>\n",
       "    .dataframe tbody tr th:only-of-type {\n",
       "        vertical-align: middle;\n",
       "    }\n",
       "\n",
       "    .dataframe tbody tr th {\n",
       "        vertical-align: top;\n",
       "    }\n",
       "\n",
       "    .dataframe thead th {\n",
       "        text-align: right;\n",
       "    }\n",
       "</style>\n",
       "<table border=\"1\" class=\"dataframe\">\n",
       "  <thead>\n",
       "    <tr style=\"text-align: right;\">\n",
       "      <th></th>\n",
       "      <th>callsign</th>\n",
       "      <th>longitude</th>\n",
       "      <th>latitude</th>\n",
       "      <th>altitude</th>\n",
       "      <th>velocity</th>\n",
       "      <th>heading</th>\n",
       "      <th>timestamp</th>\n",
       "    </tr>\n",
       "  </thead>\n",
       "  <tbody>\n",
       "    <tr>\n",
       "      <th>0</th>\n",
       "      <td>ACA595</td>\n",
       "      <td>-91.9292</td>\n",
       "      <td>34.8490</td>\n",
       "      <td>10972.8</td>\n",
       "      <td>241.54</td>\n",
       "      <td>230.44</td>\n",
       "      <td>1751076240</td>\n",
       "    </tr>\n",
       "    <tr>\n",
       "      <th>1</th>\n",
       "      <td>ACA1041</td>\n",
       "      <td>-99.5451</td>\n",
       "      <td>41.0781</td>\n",
       "      <td>10363.2</td>\n",
       "      <td>227.11</td>\n",
       "      <td>251.24</td>\n",
       "      <td>1751076240</td>\n",
       "    </tr>\n",
       "    <tr>\n",
       "      <th>2</th>\n",
       "      <td>ACA742</td>\n",
       "      <td>-93.8961</td>\n",
       "      <td>43.2923</td>\n",
       "      <td>10668.0</td>\n",
       "      <td>255.19</td>\n",
       "      <td>83.63</td>\n",
       "      <td>1751076240</td>\n",
       "    </tr>\n",
       "    <tr>\n",
       "      <th>3</th>\n",
       "      <td>ACA779</td>\n",
       "      <td>-97.7468</td>\n",
       "      <td>44.9432</td>\n",
       "      <td>12192.0</td>\n",
       "      <td>200.74</td>\n",
       "      <td>277.36</td>\n",
       "      <td>1751076240</td>\n",
       "    </tr>\n",
       "    <tr>\n",
       "      <th>4</th>\n",
       "      <td>ACA916</td>\n",
       "      <td>-64.1738</td>\n",
       "      <td>46.9557</td>\n",
       "      <td>12496.8</td>\n",
       "      <td>296.93</td>\n",
       "      <td>88.51</td>\n",
       "      <td>1751076240</td>\n",
       "    </tr>\n",
       "  </tbody>\n",
       "</table>\n",
       "</div>"
      ],
      "text/plain": [
       "  callsign  longitude  latitude  altitude  velocity  heading   timestamp\n",
       "0   ACA595   -91.9292   34.8490   10972.8    241.54   230.44  1751076240\n",
       "1  ACA1041   -99.5451   41.0781   10363.2    227.11   251.24  1751076240\n",
       "2   ACA742   -93.8961   43.2923   10668.0    255.19    83.63  1751076240\n",
       "3   ACA779   -97.7468   44.9432   12192.0    200.74   277.36  1751076240\n",
       "4   ACA916   -64.1738   46.9557   12496.8    296.93    88.51  1751076240"
      ]
     },
     "execution_count": 37,
     "metadata": {},
     "output_type": "execute_result"
    }
   ],
   "source": [
    "# Setting up OpenSky API\n",
    "\n",
    "from python_opensky import OpenSky\n",
    "nest_asyncio.apply()\n",
    "\n",
    "async def fetch_air_canada_flights():\n",
    "    async with OpenSky() as opensky:\n",
    "        states = await opensky.get_states()\n",
    "        \n",
    "        # Filter for Air Canada flights (callsign starts with 'ACA')\n",
    "        ac_flights = [\n",
    "            {\n",
    "                'callsign': state.callsign.strip(),\n",
    "                'longitude': state.longitude,\n",
    "                'latitude': state.latitude,\n",
    "                'altitude': state.barometric_altitude,\n",
    "                'velocity': state.velocity,\n",
    "                'heading': state.true_track,\n",
    "                'timestamp': states.time\n",
    "            }\n",
    "            for state in states.states \n",
    "            if state.callsign and state.callsign.strip().startswith('ACA')\n",
    "        ]\n",
    "        \n",
    "        return pd.DataFrame(ac_flights)\n",
    "\n",
    "# Run the function\n",
    "loop = asyncio.get_event_loop()\n",
    "ac_df = loop.run_until_complete(fetch_air_canada_flights())\n",
    "\n",
    "print(f\"Found {len(ac_df)} Air Canada flights currently in the air\")\n",
    "ac_df.head()\n"
   ]
  },
  {
   "cell_type": "code",
   "execution_count": null,
   "id": "a6584c30-33d8-4053-8bba-28df6c7c9dc8",
   "metadata": {},
   "outputs": [],
   "source": []
  }
 ],
 "metadata": {
  "kernelspec": {
   "display_name": "Python (env)",
   "language": "python",
   "name": "env"
  },
  "language_info": {
   "codemirror_mode": {
    "name": "ipython",
    "version": 3
   },
   "file_extension": ".py",
   "mimetype": "text/x-python",
   "name": "python",
   "nbconvert_exporter": "python",
   "pygments_lexer": "ipython3",
   "version": "3.10.11"
  }
 },
 "nbformat": 4,
 "nbformat_minor": 5
}

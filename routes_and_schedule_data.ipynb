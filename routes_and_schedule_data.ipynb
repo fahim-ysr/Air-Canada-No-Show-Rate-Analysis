{
 "cells": [
  {
   "cell_type": "code",
   "execution_count": 1,
   "id": "eb27b9b1-b0f5-498d-92a8-d1ac35e1c484",
   "metadata": {},
   "outputs": [],
   "source": [
    "# Importing modules\n",
    "\n",
    "import requests\n",
    "import json"
   ]
  },
  {
   "cell_type": "code",
   "execution_count": 9,
   "id": "94657e31-8811-44ab-b9ed-c243715d9aec",
   "metadata": {},
   "outputs": [
    {
     "ename": "SyntaxError",
     "evalue": "incomplete input (902183776.py, line 19)",
     "output_type": "error",
     "traceback": [
      "\u001b[1;36m  Cell \u001b[1;32mIn[9], line 19\u001b[1;36m\u001b[0m\n\u001b[1;33m    # pass\u001b[0m\n\u001b[1;37m          ^\u001b[0m\n\u001b[1;31mSyntaxError\u001b[0m\u001b[1;31m:\u001b[0m incomplete input\n"
     ]
    }
   ],
   "source": [
    "class AirCanadaRoute:\n",
    "    def __init__(self):\n",
    "        self.major_hubs = [\"YUL\", \"YYZ\", \"YYC\", \"YVR\"]  # Major Hubs: Montreal, Toronto, Calgary & Vancouver\n",
    "        self.route_data = []\n",
    "\n",
    "    def get_airport_data(self):\n",
    "        \"\"\"Gets airport traffic data from reliable sources (yyc.com, admtl.com, internationalairportreview.com and torontopearson.com\"\"\"\n",
    "        \n",
    "        airport_data = {\n",
    "            \"YUL\" : {\"name\": \"Montreal Trudeau\", \"annual_passengers\": \"22400000\"},\n",
    "            \"YYZ\" : {\"name\": \"Toronto Pearson\", \"annual_passengers\": \"46800000\"},\n",
    "            \"YYC\" : {\"name\": \"Calgary International\", \"annual_passengers\": \"18900000\"},\n",
    "            \"YVR\" : {\"name\": \"Vancouver International\", \"annual_passengers\": \"26200000\"}\n",
    "        }\n",
    "        return airport_data\n",
    "\n",
    "    def identify_high_traffic_routes(self):\n",
    "        \"\"\"Identifies highest traffic routes for analysis\"\"\"\n",
    "        # pass"
   ]
  },
  {
   "cell_type": "code",
   "execution_count": null,
   "id": "94d9c0a3-73b4-4bfb-9e01-56bdb1545373",
   "metadata": {},
   "outputs": [],
   "source": []
  }
 ],
 "metadata": {
  "kernelspec": {
   "display_name": "Python (env)",
   "language": "python",
   "name": "env"
  },
  "language_info": {
   "codemirror_mode": {
    "name": "ipython",
    "version": 3
   },
   "file_extension": ".py",
   "mimetype": "text/x-python",
   "name": "python",
   "nbconvert_exporter": "python",
   "pygments_lexer": "ipython3",
   "version": "3.10.11"
  }
 },
 "nbformat": 4,
 "nbformat_minor": 5
}

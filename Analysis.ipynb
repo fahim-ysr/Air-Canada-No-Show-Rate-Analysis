{
 "cells": [
  {
   "cell_type": "markdown",
   "id": "0316fcbc-03c3-4d2f-8313-ddffabe7451e",
   "metadata": {},
   "source": [
    "# Using Aviation Edge and OpenSky APIs for historical data analysis"
   ]
  },
  {
   "cell_type": "markdown",
   "id": "e9bee10c-1630-4c67-a669-a9e9e440b14b",
   "metadata": {},
   "source": [
    "## Phase 1: Data Collection"
   ]
  },
  {
   "cell_type": "markdown",
   "id": "81f5cab7-d2ad-494d-a560-06ffbeb66fa9",
   "metadata": {},
   "source": [
    "### Real-Time Flight Data"
   ]
  },
  {
   "cell_type": "code",
   "execution_count": 20,
   "id": "9fefc977-1775-44fa-a033-b5517e162e0f",
   "metadata": {},
   "outputs": [],
   "source": [
    "# Importing modules\n",
    "\n",
    "import requests\n",
    "import pandas as pd\n",
    "import nest_asyncio\n",
    "import asyncio\n",
    "from datetime import datetime, timedelta\n",
    "import time\n",
    "import json"
   ]
  },
  {
   "cell_type": "code",
   "execution_count": 22,
   "id": "c90b4d2a-6af1-4ac5-bb2d-7fd13604d74b",
   "metadata": {},
   "outputs": [
    {
     "name": "stdout",
     "output_type": "stream",
     "text": [
      "Collected 93 current Air Canada flights\n",
      "                    timestamp callsign  icao24  longitude  latitude  altitude  \\\n",
      "0  2025-06-28 20:42:41.583547   ACA763  c07c7a   -93.2921   44.0993  10363.20   \n",
      "1  2025-06-28 20:42:41.583547   ACA778  c07e33   -88.4025   43.9447  10668.00   \n",
      "2  2025-06-28 20:42:41.583547   ACA067  c058c0  -157.0593   61.5353  11582.40   \n",
      "3  2025-06-28 20:42:41.583547   ACA804  c058c3   -66.8320   48.6769  11887.20   \n",
      "4  2025-06-28 20:42:41.583547  ACA1359  c07b0a   -86.2316   40.8845  10363.20   \n",
      "..                        ...      ...     ...        ...       ...       ...   \n",
      "88 2025-06-28 20:42:41.584548   ACA836  c04fe4   -66.8463   46.9100  11277.60   \n",
      "89 2025-06-28 20:42:41.584548   ACA843  c04fdd   -79.6187   43.6666    152.40   \n",
      "90 2025-06-28 20:42:41.584548   ACA151  c0192e   -96.1317   50.5538  10363.20   \n",
      "91 2025-06-28 20:42:41.584548   ACA240  c006ec  -113.5334   53.1506   2065.02   \n",
      "92 2025-06-28 20:42:41.584548   ACA294  c00757   -97.1324   49.8252    822.96   \n",
      "\n",
      "    velocity  heading  vertical_rate  on_ground  \n",
      "0     215.72   259.28           0.00      False  \n",
      "1     252.65    69.50          -0.33      False  \n",
      "2     254.18   254.02          -0.33      False  \n",
      "3     275.44    57.59           0.00      False  \n",
      "4     217.65   243.01           0.33      False  \n",
      "..       ...      ...            ...        ...  \n",
      "88    288.47    75.96           0.00      False  \n",
      "89      4.37    45.00            NaN       True  \n",
      "90    208.55   281.67           0.00      False  \n",
      "91    131.32   135.16          -8.13      False  \n",
      "92     91.51   318.87          -3.58      False  \n",
      "\n",
      "[93 rows x 10 columns]\n"
     ]
    }
   ],
   "source": [
    "# Setting up OpenSky\n",
    "\n",
    "from python_opensky import OpenSky\n",
    "nest_asyncio.apply()\n",
    "\n",
    "class AirCanadaDataCollector:\n",
    "    def __init__(self):\n",
    "        self.flight_data = []\n",
    "        self.historical_data = pd.DataFrame()   #Dataframe for storing Air Canada Flights\n",
    "    \n",
    "    async def collect_realtime_flights(self):\n",
    "        \"\"\"Collects current Air Canada flight data\"\"\"\n",
    "        async with OpenSky() as opensky:\n",
    "            \n",
    "            # Getting most recent flight data\n",
    "            states = await opensky.get_states()\n",
    "            \n",
    "            ac_flights = []\n",
    "\n",
    "            # Filtering to get Air Canada flight data only\n",
    "            for state in states.states:\n",
    "                if state.callsign and state.callsign.strip().startswith('ACA'):\n",
    "                    flight_info = {\n",
    "                        'timestamp': datetime.now(),\n",
    "                        'callsign': state.callsign.strip(),\n",
    "                        'icao24': state.icao24,\n",
    "                        'longitude': state.longitude,\n",
    "                        'latitude': state.latitude,\n",
    "                        'altitude': state.barometric_altitude,\n",
    "                        'velocity': state.velocity,\n",
    "                        'heading': state.true_track,\n",
    "                        'vertical_rate': state.vertical_rate,\n",
    "                        'on_ground': state.on_ground\n",
    "                    }\n",
    "\n",
    "                    # Adds the current Air Canada flight details to the list\n",
    "                    ac_flights.append(flight_info)\n",
    "            \n",
    "            return pd.DataFrame(ac_flights)\n",
    "    \n",
    "    async def collect_historical_flights(self, start_time, end_time):\n",
    "        \"\"\"Collects historical flight data for a specific time range\"\"\"\n",
    "        async with OpenSky() as opensky:\n",
    "            # OpenSky provides historical data access\n",
    "            flights = await opensky.get_flights_by_aircraft(\n",
    "                begin=int(start_time.timestamp()),\n",
    "                end=int(end_time.timestamp())\n",
    "            )\n",
    "            return flights\n",
    "\n",
    "# Initializes collector object\n",
    "collector = AirCanadaDataCollector()\n",
    "\n",
    "# Collectes current flights\n",
    "current_flights = await collector.collect_realtime_flights()\n",
    "print(f\"Collected {len(current_flights)} current Air Canada flights\")\n",
    "print(current_flights)"
   ]
  },
  {
   "cell_type": "markdown",
   "id": "55d47dc1-cf3e-4dbd-9a6b-bab64de3af88",
   "metadata": {},
   "source": [
    "### Air Canada Route and Schedule Data"
   ]
  },
  {
   "cell_type": "code",
   "execution_count": 25,
   "id": "88bbd9c8-10aa-45a0-bfb7-203e14684138",
   "metadata": {},
   "outputs": [],
   "source": [
    "# Creating a class processing airport data and identifying high traffic routes\n",
    "\n",
    "class AirCanadaRoute:\n",
    "    def __init__(self):\n",
    "        self.major_hubs = [\"YUL\", \"YYZ\", \"YYC\", \"YVR\"]  # Major Hubs: Montreal, Toronto, Calgary & Vancouver\n",
    "        self.route_data = []\n",
    "\n",
    "    def get_airport_data(self):\n",
    "        \"\"\"Gets airport traffic data from reliable sources (yyc.com, admtl.com, internationalairportreview.com and torontopearson.com)\"\"\"\n",
    "        \n",
    "        airport_data = {\n",
    "            \"YUL\" : {\"name\": \"Montreal Trudeau\", \"annual_passengers\": \"22400000\"},\n",
    "            \"YYZ\" : {\"name\": \"Toronto Pearson\", \"annual_passengers\": \"46800000\"},\n",
    "            \"YYC\" : {\"name\": \"Calgary International\", \"annual_passengers\": \"18900000\"},\n",
    "            \"YVR\" : {\"name\": \"Vancouver International\", \"annual_passengers\": \"26200000\"}\n",
    "        }\n",
    "        return airport_data\n",
    "\n",
    "    def identify_high_traffic_routes(self, flight_data):\n",
    "        \"\"\"Identifies highest traffic routes for analysis\"\"\"\n",
    "        route_frequency = {}\n",
    "        \n",
    "        for _, flight in flight_data.iterrows():\n",
    "\n",
    "            # Extracts route information from callsign patterns\n",
    "            callsign = flight[\"callsign\"]\n",
    "            \n",
    "            # Air Canada uses specific callsign patterns for different routes\n",
    "            if callsign.startswith('ACA'):\n",
    "                flight_number = callsign[3:]\n",
    "\n",
    "                # Key: flight_number, value: route_frequency\n",
    "                route_frequency[flight_number] = route_frequency.get(flight_number, 0) + 1\n",
    "        return dict(sorted(route_frequency.items(), key=lambda x:x[1], reverse=True))"
   ]
  },
  {
   "cell_type": "code",
   "execution_count": 27,
   "id": "3094b0e8-836f-4f8c-91a6-f0773cf2a2c6",
   "metadata": {},
   "outputs": [],
   "source": [
    "#  Creating AirCanadaRoute objects\n",
    "\n",
    "route_collector = AirCanadaRoute()\n",
    "airport_data = route_collector.get_airport_data()\n",
    "high_traffic_routes = route_collector.identify_high_traffic_routes(current_flights)"
   ]
  },
  {
   "cell_type": "code",
   "execution_count": 29,
   "id": "be61c5dc-8666-48e7-ae63-725d716c1194",
   "metadata": {},
   "outputs": [
    {
     "name": "stdout",
     "output_type": "stream",
     "text": [
      "{'763': 1, '778': 1, '067': 1, '804': 1, '1359': 1, '540': 1, '793': 1, '326': 1, '918': 1, '834': 1, '108': 1, '527': 1, '585': 1, '1051': 1, '575': 1, '772': 1, '722': 1, '325': 1, '1420': 1, '651': 1, '581': 1, '221': 1, '777': 1, '1301': 1, '1064': 1, '629': 1, '1310': 1, '306': 1, '694': 1, '2182': 1, '599': 1, '148': 1, '508': 1, '344': 1, '740': 1, '762': 1, '742': 1, '1092': 1, '122': 1, '112': 1, '59': 1, '616': 1, '062': 1, '268': 1, '1041': 1, '515': 1, '898': 1, '874': 1, '1277': 1, '546': 1, '557': 1, '110': 1, '792': 1, '556': 1, '1397': 1, '1115': 1, '734': 1, '886': 1, '844': 1, '921': 1, '422': 1, '375': 1, '854': 1, '5': 1, '114': 1, '896': 1, '822': 1, '1': 1, '1179': 1, '121': 1, '184': 1, '1383': 1, '1396': 1, '423': 1, '1029': 1, '511': 1, '773': 1, '745': 1, '175': 1, '7309': 1, '145': 1, '153': 1, '144': 1, '847': 1, '779': 1, '365': 1, '1081': 1, '935': 1, '836': 1, '843': 1, '151': 1, '240': 1, '294': 1}\n"
     ]
    }
   ],
   "source": [
    "print(high_traffic_routes)"
   ]
  },
  {
   "cell_type": "markdown",
   "id": "55ce2a77-98f8-42f5-8df1-ed7226abc986",
   "metadata": {},
   "source": [
    "### External Data Collection (Weather, Holidays & Seasonal Factors)"
   ]
  },
  {
   "cell_type": "code",
   "execution_count": null,
   "id": "90821db6-eacc-4a98-b782-48a834ae623a",
   "metadata": {},
   "outputs": [],
   "source": []
  }
 ],
 "metadata": {
  "kernelspec": {
   "display_name": "Python (env)",
   "language": "python",
   "name": "env"
  },
  "language_info": {
   "codemirror_mode": {
    "name": "ipython",
    "version": 3
   },
   "file_extension": ".py",
   "mimetype": "text/x-python",
   "name": "python",
   "nbconvert_exporter": "python",
   "pygments_lexer": "ipython3",
   "version": "3.10.11"
  }
 },
 "nbformat": 4,
 "nbformat_minor": 5
}

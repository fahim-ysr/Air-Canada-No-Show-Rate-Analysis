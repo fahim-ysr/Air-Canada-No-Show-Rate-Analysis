{
 "cells": [
  {
   "cell_type": "code",
   "execution_count": 2,
   "id": "c1154e76-ea1b-4b82-b891-e095d32e649f",
   "metadata": {},
   "outputs": [],
   "source": [
    "# Using Aviation Edge and Open Sky APIs for historical data analysis"
   ]
  },
  {
   "cell_type": "code",
   "execution_count": null,
   "id": "9fefc977-1775-44fa-a033-b5517e162e0f",
   "metadata": {},
   "outputs": [],
   "source": []
  }
 ],
 "metadata": {
  "kernelspec": {
   "display_name": "Python 3 (ipykernel)",
   "language": "python",
   "name": "python3"
  },
  "language_info": {
   "codemirror_mode": {
    "name": "ipython",
    "version": 3
   },
   "file_extension": ".py",
   "mimetype": "text/x-python",
   "name": "python",
   "nbconvert_exporter": "python",
   "pygments_lexer": "ipython3",
   "version": "3.12.3"
  }
 },
 "nbformat": 4,
 "nbformat_minor": 5
}

{
 "cells": [
  {
   "cell_type": "markdown",
   "id": "0316fcbc-03c3-4d2f-8313-ddffabe7451e",
   "metadata": {},
   "source": [
    "# Using Aviation Edge and OpenSky APIs for historical data analysis"
   ]
  },
  {
   "cell_type": "markdown",
   "id": "e9bee10c-1630-4c67-a669-a9e9e440b14b",
   "metadata": {},
   "source": [
    "## Phase 1: Data Collection"
   ]
  },
  {
   "cell_type": "markdown",
   "id": "81f5cab7-d2ad-494d-a560-06ffbeb66fa9",
   "metadata": {},
   "source": [
    "### Real-Time Flight Data"
   ]
  },
  {
   "cell_type": "code",
   "execution_count": 2,
   "id": "9fefc977-1775-44fa-a033-b5517e162e0f",
   "metadata": {},
   "outputs": [],
   "source": [
    "# Importing modules\n",
    "\n",
    "import requests\n",
    "import pandas as pd\n",
    "import nest_asyncio\n",
    "import asyncio\n",
    "from datetime import datetime, timedelta\n",
    "import time\n",
    "import json"
   ]
  },
  {
   "cell_type": "code",
   "execution_count": 19,
   "id": "c90b4d2a-6af1-4ac5-bb2d-7fd13604d74b",
   "metadata": {},
   "outputs": [
    {
     "name": "stdout",
     "output_type": "stream",
     "text": [
      "Collected 72 current Air Canada flights\n",
      "                    timestamp callsign  icao24  longitude  latitude  altitude  \\\n",
      "0  2025-06-29 01:10:28.269010   ACA763  c07c7a  -122.3803   37.6191       NaN   \n",
      "1  2025-06-29 01:10:28.269010  ACA1182  c07e33   -72.7531   46.0976   7520.94   \n",
      "2  2025-06-29 01:10:28.269010   ACA345  c01049  -122.1688   49.4235   3482.34   \n",
      "3  2025-06-29 01:10:28.269010   ACA098  c06a38   -73.8273   43.2764  10652.76   \n",
      "4  2025-06-29 01:10:28.269010   ACA930  c058c2   -71.7160   44.5708  11887.20   \n",
      "..                        ...      ...     ...        ...       ...       ...   \n",
      "67 2025-06-29 01:10:28.270016   ACA842  c04fd7   -64.9572   47.2262  11277.60   \n",
      "68 2025-06-29 01:10:28.270016   ACA549  c04ff7   -95.6574   48.3073  10972.80   \n",
      "69 2025-06-29 01:10:28.270016   ACA836  c04fe4    -7.3302   53.8864  11887.20   \n",
      "70 2025-06-29 01:10:28.270016   ACA159  c00821   -84.3391   46.4219  10363.20   \n",
      "71 2025-06-29 01:10:28.270016   ACA245  c006ec  -117.5317   51.6262  10363.20   \n",
      "\n",
      "    velocity  heading  vertical_rate  on_ground  \n",
      "0       3.34   348.75            NaN       True  \n",
      "1     227.29    56.17           8.13      False  \n",
      "2     169.84   259.88          -9.43      False  \n",
      "3     239.79   178.77           8.13      False  \n",
      "4     279.10    82.59           0.00      False  \n",
      "..       ...      ...            ...        ...  \n",
      "67    266.68    76.96           0.00      False  \n",
      "68    204.81   271.44          -0.33      False  \n",
      "69    257.27   107.09           0.00      False  \n",
      "70    227.78   309.23          -0.33      False  \n",
      "71    200.95   233.75           0.00      False  \n",
      "\n",
      "[72 rows x 10 columns]\n"
     ]
    }
   ],
   "source": [
    "# Setting up OpenSky\n",
    "\n",
    "from python_opensky import OpenSky\n",
    "nest_asyncio.apply()\n",
    "\n",
    "class AirCanadaDataCollector:\n",
    "    def __init__(self):\n",
    "        self.flight_data = []\n",
    "        self.historical_data = pd.DataFrame()   #Dataframe for storing Air Canada Flights\n",
    "    \n",
    "    async def collect_realtime_flights(self):\n",
    "        \"\"\"Collects current Air Canada flight data\"\"\"\n",
    "        async with OpenSky() as opensky:\n",
    "            \n",
    "            # Getting most recent flight data\n",
    "            states = await opensky.get_states()\n",
    "            \n",
    "            ac_flights = []\n",
    "\n",
    "            # Filtering to get Air Canada flight data only\n",
    "            for state in states.states:\n",
    "                if state.callsign and state.callsign.strip().startswith('ACA'):\n",
    "                    flight_info = {\n",
    "                        'timestamp': datetime.now(),\n",
    "                        'callsign': state.callsign.strip(),\n",
    "                        'icao24': state.icao24,\n",
    "                        'longitude': state.longitude,\n",
    "                        'latitude': state.latitude,\n",
    "                        'altitude': state.barometric_altitude,\n",
    "                        'velocity': state.velocity,\n",
    "                        'heading': state.true_track,\n",
    "                        'vertical_rate': state.vertical_rate,\n",
    "                        'on_ground': state.on_ground\n",
    "                    }\n",
    "\n",
    "                    # Adds the current Air Canada flight details to the list\n",
    "                    ac_flights.append(flight_info)\n",
    "            \n",
    "            return pd.DataFrame(ac_flights)\n",
    "    \n",
    "    async def collect_historical_flights(self, start_time, end_time):\n",
    "        \"\"\"Collects historical flight data for a specific time range\"\"\"\n",
    "        async with OpenSky() as opensky:\n",
    "            # OpenSky provides historical data access\n",
    "            flights = await opensky.get_flights_by_aircraft(\n",
    "                begin=int(start_time.timestamp()),\n",
    "                end=int(end_time.timestamp())\n",
    "            )\n",
    "            return flights\n",
    "\n",
    "# Initializes collector object\n",
    "collector = AirCanadaDataCollector()\n",
    "\n",
    "# Collectes current flights\n",
    "current_flights = await collector.collect_realtime_flights()\n",
    "print(f\"Collected {len(current_flights)} current Air Canada flights\")\n",
    "print(current_flights)"
   ]
  },
  {
   "cell_type": "markdown",
   "id": "55d47dc1-cf3e-4dbd-9a6b-bab64de3af88",
   "metadata": {},
   "source": [
    "### Air Canada Route and Schedule Data"
   ]
  },
  {
   "cell_type": "code",
   "execution_count": 7,
   "id": "88bbd9c8-10aa-45a0-bfb7-203e14684138",
   "metadata": {},
   "outputs": [],
   "source": [
    "# Creating a class processing airport data and identifying high traffic routes\n",
    "\n",
    "class AirCanadaRoute:\n",
    "    def __init__(self):\n",
    "        self.major_hubs = [\"YUL\", \"YYZ\", \"YYC\", \"YVR\"]  # Major Hubs: Montreal, Toronto, Calgary & Vancouver\n",
    "        self.route_data = []\n",
    "\n",
    "    def get_airport_data(self):\n",
    "        \"\"\"Gets airport traffic data from reliable sources (yyc.com, admtl.com, internationalairportreview.com and torontopearson.com)\"\"\"\n",
    "        \n",
    "        airport_data = {\n",
    "            \"YUL\" : {\"name\": \"Montreal Trudeau\", \"annual_passengers\": \"22400000\"},\n",
    "            \"YYZ\" : {\"name\": \"Toronto Pearson\", \"annual_passengers\": \"46800000\"},\n",
    "            \"YYC\" : {\"name\": \"Calgary International\", \"annual_passengers\": \"18900000\"},\n",
    "            \"YVR\" : {\"name\": \"Vancouver International\", \"annual_passengers\": \"26200000\"}\n",
    "        }\n",
    "        return airport_data\n",
    "\n",
    "    def identify_high_traffic_routes(self, flight_data):\n",
    "        \"\"\"Identifies highest traffic routes for analysis\"\"\"\n",
    "        route_frequency = {}\n",
    "        \n",
    "        for _, flight in flight_data.iterrows():\n",
    "\n",
    "            # Extracts route information from callsign patterns\n",
    "            callsign = flight[\"callsign\"]\n",
    "            \n",
    "            # Air Canada uses specific callsign patterns for different routes\n",
    "            if callsign.startswith('ACA'):\n",
    "                flight_number = callsign[3:]\n",
    "\n",
    "                # Key: flight_number, value: route_frequency\n",
    "                route_frequency[flight_number] = route_frequency.get(flight_number, 0) + 1\n",
    "        return dict(sorted(route_frequency.items(), key=lambda x:x[1], reverse=True))"
   ]
  },
  {
   "cell_type": "code",
   "execution_count": 9,
   "id": "3094b0e8-836f-4f8c-91a6-f0773cf2a2c6",
   "metadata": {},
   "outputs": [],
   "source": [
    "#  Creating AirCanadaRoute objects\n",
    "\n",
    "route_collector = AirCanadaRoute()\n",
    "airport_data = route_collector.get_airport_data()\n",
    "high_traffic_routes = route_collector.identify_high_traffic_routes(current_flights)"
   ]
  },
  {
   "cell_type": "code",
   "execution_count": 11,
   "id": "be61c5dc-8666-48e7-ae63-725d716c1194",
   "metadata": {},
   "outputs": [
    {
     "name": "stdout",
     "output_type": "stream",
     "text": [
      "{'763': 1, '1182': 1, '345': 1, '098': 1, '930': 1, '804': 1, '312': 1, '025': 1, '7': 1, '834': 1, '311': 1, '852': 1, '33': 1, '795': 1, '158': 1, '578': 1, '1074': 1, '327': 1, '995': 1, '620': 1, '000': 1, '429': 1, '177': 1, '325': 1, '1427': 1, '395': 1, '971': 1, '996': 1, '1064': 1, '571': 1, '357': 1, '840': 1, '914': 1, '912': 1, '347': 1, '1159': 1, '742': 1, '993': 1, '337': 1, '90': 1, '271': 1, '515': 1, '898': 1, '874': 1, '307': 1, '558': 1, '157': 1, '559': 1, '471': 1, '1116': 1, '886': 1, '299': 1, '747': 1, '810': 1, '43': 1, '127': 1, '470': 1, '1309': 1, '1075': 1, '1030': 1, '745': 1, '152': 1, '432': 1, '50': 1, '779': 1, '365': 1, '7242': 1, '842': 1, '549': 1, '836': 1, '159': 1, '245': 1}\n"
     ]
    }
   ],
   "source": [
    "print(high_traffic_routes)"
   ]
  },
  {
   "cell_type": "markdown",
   "id": "55ce2a77-98f8-42f5-8df1-ed7226abc986",
   "metadata": {},
   "source": [
    "### External Data Collection (Weather, Holidays & Seasonal Factors)"
   ]
  },
  {
   "cell_type": "code",
   "execution_count": 37,
   "id": "90821db6-eacc-4a98-b782-48a834ae623a",
   "metadata": {},
   "outputs": [],
   "source": [
    "class ExternalDataCollector:\n",
    "    def __init__(self):\n",
    "        # Processes weather data from 'api.weather.gc.ca' and public holidays for later use\n",
    "        self.weather_api = \"https://api.weather.gc.ca\"\n",
    "        self.holidays_2025 = [\n",
    "            \"2025-01-01\",  # New Year's Day\n",
    "            \"2025-04-18\",  # Good Friday\n",
    "            \"2025-05-19\",  # Victoria Day\n",
    "            \"2025-07-01\",  # Canada Day\n",
    "            \"2025-09-01\",  # Labour Day\n",
    "            \"2025-10-13\",  # Thanksgiving\n",
    "            \"2025-11-11\",  # Remembrance Day\n",
    "            \"2025-12-25\",  # Christmas Day\n",
    "            \"2025-12-26\"   # Boxing Day\n",
    "        ]\n",
    "    \n",
    "    def get_weather_data(self, airport_code, date):\n",
    "        \"\"\"Gets weather data for specific airports for specific dates\"\"\"\n",
    "\n",
    "\n",
    "    def is_holiday(self, date):\n",
    "        \"\"\"Checks if the specific date is a holiday or not\"\"\"\n",
    "\n",
    "    def get_seasonal_factors(self, date):\n",
    "        \"\"\"Gets seasonal adjustment factors\"\"\"\n",
    "        \n",
    "        month = date.month\n",
    "        seasons = {\n",
    "            \"winter_months\": [12, 1, 2],\n",
    "            \"spring_months\": [3, 4, 5],\n",
    "            \"summer_months\": [6, 7, 8],\n",
    "            \"fall_months\": [9, 10, 11]\n",
    "        }\n",
    "\n",
    "        for season, months in seasons.items():\n",
    "            if mon"
   ]
  },
  {
   "cell_type": "code",
   "execution_count": null,
   "id": "1f9c2676-8d39-4f28-932f-dd0fd33c5cd6",
   "metadata": {},
   "outputs": [],
   "source": []
  }
 ],
 "metadata": {
  "kernelspec": {
   "display_name": "Python (env)",
   "language": "python",
   "name": "env"
  },
  "language_info": {
   "codemirror_mode": {
    "name": "ipython",
    "version": 3
   },
   "file_extension": ".py",
   "mimetype": "text/x-python",
   "name": "python",
   "nbconvert_exporter": "python",
   "pygments_lexer": "ipython3",
   "version": "3.10.11"
  }
 },
 "nbformat": 4,
 "nbformat_minor": 5
}

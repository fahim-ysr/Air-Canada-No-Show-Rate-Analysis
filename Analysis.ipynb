{
 "cells": [
  {
   "cell_type": "code",
   "execution_count": 1,
   "id": "c1154e76-ea1b-4b82-b891-e095d32e649f",
   "metadata": {},
   "outputs": [],
   "source": [
    "# Using Aviation Edge and OpenSky APIs for historical data analysis"
   ]
  },
  {
   "cell_type": "code",
   "execution_count": 2,
   "id": "9fefc977-1775-44fa-a033-b5517e162e0f",
   "metadata": {},
   "outputs": [],
   "source": [
    "# Importing modules\n",
    "\n",
    "import requests\n",
    "import pandas as pd\n",
    "import nest_asyncio\n",
    "import asyncio\n",
    "from datetime import datetime, timedelta\n",
    "import time\n",
    "import json"
   ]
  },
  {
   "cell_type": "code",
   "execution_count": 4,
   "id": "c90b4d2a-6af1-4ac5-bb2d-7fd13604d74b",
   "metadata": {},
   "outputs": [
    {
     "name": "stdout",
     "output_type": "stream",
     "text": [
      "Collected 93 current Air Canada flights\n",
      "                    timestamp callsign  icao24  longitude  latitude  altitude  \\\n",
      "0  2025-06-28 20:37:16.883583   ACA763  c07c7a   -92.4246   44.2146  10363.20   \n",
      "1  2025-06-28 20:37:16.883583   ACA778  c07e33   -89.3570   43.6826  10668.00   \n",
      "2  2025-06-28 20:37:16.883583    ACA19  c0103a   103.9786    1.3517     38.10   \n",
      "3  2025-06-28 20:37:16.883583   ACA067  c058c0  -155.5410   61.7329  11582.40   \n",
      "4  2025-06-28 20:37:16.883583   ACA788  c058c2   -79.6132   43.6762       NaN   \n",
      "..                        ...      ...     ...        ...       ...       ...   \n",
      "88 2025-06-28 20:37:16.883583   ACA935  c04fd7   -79.3666   43.9075   1767.84   \n",
      "89 2025-06-28 20:37:16.883583   ACA836  c04fe4   -67.9931   46.6824  11277.60   \n",
      "90 2025-06-28 20:37:16.883583   ACA843  c04fdd   -79.4634   43.7672    906.78   \n",
      "91 2025-06-28 20:37:16.883583   ACA240  c006ec  -114.1806   53.2856   3368.04   \n",
      "92 2025-06-28 20:37:16.883583   ACA294  c00757   -97.5388   49.7826   2461.26   \n",
      "\n",
      "    velocity  heading  vertical_rate  on_ground  \n",
      "0     212.72   259.83           0.00      False  \n",
      "1     249.64    68.99           0.00      False  \n",
      "2      78.36    23.20          -1.63      False  \n",
      "3     254.67   255.37           0.00      False  \n",
      "4       0.06    53.44            NaN       True  \n",
      "..       ...      ...            ...        ...  \n",
      "88    129.84   202.60          -6.18      False  \n",
      "89    285.30    73.23           0.00      False  \n",
      "90     88.43   226.65           0.33      False  \n",
      "91    188.90    88.13          -3.90      False  \n",
      "92    159.52    94.81          -8.45      False  \n",
      "\n",
      "[93 rows x 10 columns]\n"
     ]
    }
   ],
   "source": [
    "# Setting up OpenSky\n",
    "\n",
    "from python_opensky import OpenSky\n",
    "nest_asyncio.apply()\n",
    "\n",
    "class AirCanadaDataCollector:\n",
    "    def __init__(self):\n",
    "        self.flight_data = []\n",
    "        self.historical_data = pd.DataFrame()   #Dataframe for storing Air Canada Flights\n",
    "    \n",
    "    async def collect_realtime_flights(self):\n",
    "        \"\"\"Collects current Air Canada flight data\"\"\"\n",
    "        async with OpenSky() as opensky:\n",
    "            \n",
    "            # Getting most recent flight data\n",
    "            states = await opensky.get_states()\n",
    "            \n",
    "            ac_flights = []\n",
    "\n",
    "            # Filtering to get Air Canada flight data only\n",
    "            for state in states.states:\n",
    "                if state.callsign and state.callsign.strip().startswith('ACA'):\n",
    "                    flight_info = {\n",
    "                        'timestamp': datetime.now(),\n",
    "                        'callsign': state.callsign.strip(),\n",
    "                        'icao24': state.icao24,\n",
    "                        'longitude': state.longitude,\n",
    "                        'latitude': state.latitude,\n",
    "                        'altitude': state.barometric_altitude,\n",
    "                        'velocity': state.velocity,\n",
    "                        'heading': state.true_track,\n",
    "                        'vertical_rate': state.vertical_rate,\n",
    "                        'on_ground': state.on_ground\n",
    "                    }\n",
    "\n",
    "                    # Adds the current Air Canada flight details to the list\n",
    "                    ac_flights.append(flight_info)\n",
    "            \n",
    "            return pd.DataFrame(ac_flights)\n",
    "    \n",
    "    async def collect_historical_flights(self, start_time, end_time):\n",
    "        \"\"\"Collects historical flight data for a specific time range\"\"\"\n",
    "        async with OpenSky() as opensky:\n",
    "            # OpenSky provides historical data access\n",
    "            flights = await opensky.get_flights_by_aircraft(\n",
    "                begin=int(start_time.timestamp()),\n",
    "                end=int(end_time.timestamp())\n",
    "            )\n",
    "            return flights\n",
    "\n",
    "# Initializes collector object\n",
    "collector = AirCanadaDataCollector()\n",
    "\n",
    "# Collectes current flights\n",
    "current_flights = await collector.collect_realtime_flights()\n",
    "print(f\"Collected {len(current_flights)} current Air Canada flights\")\n",
    "print(current_flights)"
   ]
  },
  {
   "cell_type": "code",
   "execution_count": null,
   "id": "4adbac66-9a07-49a9-a016-d17466a77978",
   "metadata": {},
   "outputs": [],
   "source": []
  },
  {
   "cell_type": "code",
   "execution_count": 6,
   "id": "88bbd9c8-10aa-45a0-bfb7-203e14684138",
   "metadata": {},
   "outputs": [],
   "source": [
    "# Creating a class processing airport data and identifying high traffic routes\n",
    "\n",
    "class AirCanadaRoute:\n",
    "    def __init__(self):\n",
    "        self.major_hubs = [\"YUL\", \"YYZ\", \"YYC\", \"YVR\"]  # Major Hubs: Montreal, Toronto, Calgary & Vancouver\n",
    "        self.route_data = []\n",
    "\n",
    "    def get_airport_data(self):\n",
    "        \"\"\"Gets airport traffic data from reliable sources (yyc.com, admtl.com, internationalairportreview.com and torontopearson.com)\"\"\"\n",
    "        \n",
    "        airport_data = {\n",
    "            \"YUL\" : {\"name\": \"Montreal Trudeau\", \"annual_passengers\": \"22400000\"},\n",
    "            \"YYZ\" : {\"name\": \"Toronto Pearson\", \"annual_passengers\": \"46800000\"},\n",
    "            \"YYC\" : {\"name\": \"Calgary International\", \"annual_passengers\": \"18900000\"},\n",
    "            \"YVR\" : {\"name\": \"Vancouver International\", \"annual_passengers\": \"26200000\"}\n",
    "        }\n",
    "        return airport_data\n",
    "\n",
    "    def identify_high_traffic_routes(self, flight_data):\n",
    "        \"\"\"Identifies highest traffic routes for analysis\"\"\"\n",
    "        route_frequency = {}\n",
    "        \n",
    "        for _, flight in flight_data.iterrows():\n",
    "\n",
    "            # Extracts route information from callsign patterns\n",
    "            callsign = flight[\"callsign\"]\n",
    "            \n",
    "            # Air Canada uses specific callsign patterns for different routes\n",
    "            if callsign.startswith('ACA'):\n",
    "                flight_number = callsign[3:]\n",
    "                route_frequency[flight_number] = route_frequency.get(flight_number, 0) + 1\n",
    "        return dict(sorted(route_frequency.items(), key=lambda x:x[1], reverse=True))"
   ]
  },
  {
   "cell_type": "code",
   "execution_count": 10,
   "id": "3094b0e8-836f-4f8c-91a6-f0773cf2a2c6",
   "metadata": {},
   "outputs": [],
   "source": [
    "#  Creating AirCanadaRoute objects\n",
    "\n",
    "route_collector = AirCanadaRoute()\n",
    "airport_data = route_collector.get_airport_data()\n",
    "high_traffic_routes = route_collector.identify_high_traffic_routes(current_flights)"
   ]
  },
  {
   "cell_type": "code",
   "execution_count": 14,
   "id": "be61c5dc-8666-48e7-ae63-725d716c1194",
   "metadata": {},
   "outputs": [
    {
     "name": "stdout",
     "output_type": "stream",
     "text": [
      "{'763': 1, '778': 1, '19': 1, '067': 1, '788': 1, '804': 1, '1359': 1, '540': 1, '793': 1, '326': 1, '918': 1, '834': 1, '108': 1, '527': 1, '585': 1, '1051': 1, '575': 1, '772': 1, '722': 1, '168': 1, '1420': 1, '651': 1, '581': 1, '221': 1, '777': 1, '1301': 1, '629': 1, '119': 1, '1310': 1, '306': 1, '694': 1, '2182': 1, '599': 1, '148': 1, '508': 1, '869': 1, '344': 1, '740': 1, '742': 1, '1092': 1, '122': 1, '112': 1, '59': 1, '616': 1, '062': 1, '268': 1, '1041': 1, '515': 1, '898': 1, '874': 1, '1277': 1, '546': 1, '557': 1, '110': 1, '556': 1, '1397': 1, '267': 1, '1115': 1, '734': 1, '886': 1, '844': 1, '921': 1, '422': 1, '375': 1, '854': 1, '5': 1, '114': 1, '896': 1, '822': 1, '1': 1, '861': 1, '1179': 1, '121': 1, '1396': 1, '423': 1, '1029': 1, '511': 1, '773': 1, '745': 1, '175': 1, '7309': 1, '145': 1, '144': 1, '847': 1, '779': 1, '71': 1, '365': 1, '1081': 1, '935': 1, '836': 1, '843': 1, '240': 1, '294': 1}\n"
     ]
    }
   ],
   "source": [
    "print(high_traffic_routes)"
   ]
  },
  {
   "cell_type": "code",
   "execution_count": null,
   "id": "336b703d-a47e-4085-b028-9d35cf0f0ec4",
   "metadata": {},
   "outputs": [],
   "source": []
  }
 ],
 "metadata": {
  "kernelspec": {
   "display_name": "Python (env)",
   "language": "python",
   "name": "env"
  },
  "language_info": {
   "codemirror_mode": {
    "name": "ipython",
    "version": 3
   },
   "file_extension": ".py",
   "mimetype": "text/x-python",
   "name": "python",
   "nbconvert_exporter": "python",
   "pygments_lexer": "ipython3",
   "version": "3.10.11"
  }
 },
 "nbformat": 4,
 "nbformat_minor": 5
}

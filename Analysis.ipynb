{
 "cells": [
  {
   "cell_type": "markdown",
   "id": "0316fcbc-03c3-4d2f-8313-ddffabe7451e",
   "metadata": {},
   "source": [
    "# Using Aviation Edge and OpenSky APIs for historical data analysis"
   ]
  },
  {
   "cell_type": "markdown",
   "id": "e9bee10c-1630-4c67-a669-a9e9e440b14b",
   "metadata": {},
   "source": [
    "## Phase 1: Data Collection"
   ]
  },
  {
   "cell_type": "markdown",
   "id": "81f5cab7-d2ad-494d-a560-06ffbeb66fa9",
   "metadata": {},
   "source": [
    "### Real-Time Flight Data"
   ]
  },
  {
   "cell_type": "code",
   "execution_count": 4,
   "id": "9fefc977-1775-44fa-a033-b5517e162e0f",
   "metadata": {},
   "outputs": [],
   "source": [
    "# Importing modules\n",
    "\n",
    "import requests\n",
    "import pandas as pd\n",
    "import nest_asyncio\n",
    "import asyncio\n",
    "from datetime import datetime, timedelta\n",
    "import time\n",
    "import json\n",
    "import random"
   ]
  },
  {
   "cell_type": "code",
   "execution_count": 5,
   "id": "c90b4d2a-6af1-4ac5-bb2d-7fd13604d74b",
   "metadata": {},
   "outputs": [
    {
     "name": "stdout",
     "output_type": "stream",
     "text": [
      "Collected 78 current Air Canada flights\n",
      "                    timestamp callsign  icao24  longitude  latitude  altitude  \\\n",
      "0  2025-06-29 17:37:11.787163   ACA760  c07c7a   -77.2774   46.2611  10668.00   \n",
      "1  2025-06-29 17:37:11.787163   ACA506  c07e2c   -86.2804   42.3094   7985.76   \n",
      "2  2025-06-29 17:37:11.787163  ACA1186  c07e32   -73.4456   43.4302  11277.60   \n",
      "3  2025-06-29 17:37:11.787163   ACA733  c07e33   -73.6448   41.0390   3268.98   \n",
      "4  2025-06-29 17:37:11.787163   ACA112  c01040  -122.0853   49.1494   6111.24   \n",
      "..                        ...      ...     ...        ...       ...       ...   \n",
      "73 2025-06-29 17:37:11.789625   ACA460  c005c5   -79.6346   43.6938       NaN   \n",
      "74 2025-06-29 17:37:11.789625   ACA115  c0192e   -94.9141   47.9360   9136.38   \n",
      "75 2025-06-29 17:37:11.789625   ACA585  c00821   -80.7518   43.6274  10370.82   \n",
      "76 2025-06-29 17:37:11.789625   ACA238  c006ec  -121.7724   50.0930   7338.06   \n",
      "77 2025-06-29 17:37:11.789625   ACA356  c00757  -112.5554   51.0126   6316.98   \n",
      "\n",
      "    velocity  heading  vertical_rate  on_ground  \n",
      "0     256.55    94.72           0.00      False  \n",
      "1     236.91    87.26           7.15      False  \n",
      "2     235.84   357.50           0.00      False  \n",
      "3     164.44    29.21           6.83      False  \n",
      "4     231.13    85.66           9.10      False  \n",
      "..       ...      ...            ...        ...  \n",
      "73      5.66   320.62            NaN       True  \n",
      "74    215.17   303.20           0.00      False  \n",
      "75    236.33   295.39           0.00      False  \n",
      "76    258.77    52.67           5.20      False  \n",
      "77    248.16    96.79           6.18      False  \n",
      "\n",
      "[78 rows x 10 columns]\n"
     ]
    }
   ],
   "source": [
    "# Setting up OpenSky\n",
    "\n",
    "from python_opensky import OpenSky\n",
    "nest_asyncio.apply()\n",
    "\n",
    "class AirCanadaDataCollector:\n",
    "    def __init__(self):\n",
    "        self.flight_data = []\n",
    "        self.historical_data = pd.DataFrame()   #Dataframe for storing Air Canada Flights\n",
    "    \n",
    "    async def collect_realtime_flights(self):\n",
    "        \"\"\"Collects current Air Canada flight data\"\"\"\n",
    "        async with OpenSky() as opensky:\n",
    "            \n",
    "            # Getting most recent flight data\n",
    "            states = await opensky.get_states()\n",
    "            \n",
    "            ac_flights = []\n",
    "\n",
    "            # Filtering to get Air Canada flight data only\n",
    "            for state in states.states:\n",
    "                if state.callsign and state.callsign.strip().startswith('ACA'):\n",
    "                    flight_info = {\n",
    "                        'timestamp': datetime.now(),\n",
    "                        'callsign': state.callsign.strip(),\n",
    "                        'icao24': state.icao24,\n",
    "                        'longitude': state.longitude,\n",
    "                        'latitude': state.latitude,\n",
    "                        'altitude': state.barometric_altitude,\n",
    "                        'velocity': state.velocity,\n",
    "                        'heading': state.true_track,\n",
    "                        'vertical_rate': state.vertical_rate,\n",
    "                        'on_ground': state.on_ground\n",
    "                    }\n",
    "\n",
    "                    # Adds the current Air Canada flight details to the list\n",
    "                    ac_flights.append(flight_info)\n",
    "            \n",
    "            return pd.DataFrame(ac_flights)\n",
    "    \n",
    "    async def collect_historical_flights(self, start_time, end_time):\n",
    "        \"\"\"Collects historical flight data for a specific time range\"\"\"\n",
    "        async with OpenSky() as opensky:\n",
    "            # OpenSky provides historical data access\n",
    "            flights = await opensky.get_flights_by_aircraft(\n",
    "                begin=int(start_time.timestamp()),\n",
    "                end=int(end_time.timestamp())\n",
    "            )\n",
    "            return flights\n",
    "\n",
    "# Initializes collector object\n",
    "collector = AirCanadaDataCollector()\n",
    "\n",
    "# Collectes current flights\n",
    "current_flights = await collector.collect_realtime_flights()\n",
    "print(f\"Collected {len(current_flights)} current Air Canada flights\")\n",
    "print(current_flights)"
   ]
  },
  {
   "cell_type": "markdown",
   "id": "55d47dc1-cf3e-4dbd-9a6b-bab64de3af88",
   "metadata": {},
   "source": [
    "### Air Canada Route and Schedule Data"
   ]
  },
  {
   "cell_type": "code",
   "execution_count": 9,
   "id": "88bbd9c8-10aa-45a0-bfb7-203e14684138",
   "metadata": {},
   "outputs": [],
   "source": [
    "# Creating a class processing airport data and identifying high traffic routes\n",
    "\n",
    "class AirCanadaRoute:\n",
    "    def __init__(self):\n",
    "        self.major_hubs = [\"YUL\", \"YYZ\", \"YYC\", \"YVR\"]  # Major Hubs: Montreal, Toronto, Calgary & Vancouver\n",
    "        self.route_data = []\n",
    "\n",
    "    def get_airport_data(self):\n",
    "        \"\"\"Gets airport traffic data from reliable sources (yyc.com, admtl.com, internationalairportreview.com and torontopearson.com)\"\"\"\n",
    "        \n",
    "        airport_data = {\n",
    "            \"YUL\" : {\"name\": \"Montreal Trudeau\", \"annual_passengers\": \"22400000\"},\n",
    "            \"YYZ\" : {\"name\": \"Toronto Pearson\", \"annual_passengers\": \"46800000\"},\n",
    "            \"YYC\" : {\"name\": \"Calgary International\", \"annual_passengers\": \"18900000\"},\n",
    "            \"YVR\" : {\"name\": \"Vancouver International\", \"annual_passengers\": \"26200000\"}\n",
    "        }\n",
    "        return airport_data\n",
    "\n",
    "    def identify_high_traffic_routes(self, flight_data):\n",
    "        \"\"\"Identifies highest traffic routes for analysis\"\"\"\n",
    "        route_frequency = {}\n",
    "        \n",
    "        for _, flight in flight_data.iterrows():\n",
    "\n",
    "            # Extracts route information from callsign patterns\n",
    "            callsign = flight[\"callsign\"]\n",
    "            \n",
    "            # Air Canada uses specific callsign patterns for different routes\n",
    "            if callsign.startswith('ACA'):\n",
    "                flight_number = callsign[3:]\n",
    "\n",
    "                # Key: flight_number, value: route_frequency\n",
    "                route_frequency[flight_number] = route_frequency.get(flight_number, 0) + 1\n",
    "        return dict(sorted(route_frequency.items(), key=lambda x:x[1], reverse=True))"
   ]
  },
  {
   "cell_type": "code",
   "execution_count": 11,
   "id": "3094b0e8-836f-4f8c-91a6-f0773cf2a2c6",
   "metadata": {},
   "outputs": [],
   "source": [
    "#  Creating AirCanadaRoute objects\n",
    "\n",
    "route_collector = AirCanadaRoute()\n",
    "airport_data = route_collector.get_airport_data()\n",
    "high_traffic_routes = route_collector.identify_high_traffic_routes(current_flights)"
   ]
  },
  {
   "cell_type": "code",
   "execution_count": 13,
   "id": "be61c5dc-8666-48e7-ae63-725d716c1194",
   "metadata": {},
   "outputs": [
    {
     "name": "stdout",
     "output_type": "stream",
     "text": [
      "{'760': 1, '506': 1, '1186': 1, '733': 1, '112': 1, '895': 1, '095': 1, '068': 1, '931': 1, '788': 1, '740': 1, '1358': 1, '575': 1, '3': 1, '905': 1, '063': 1, '168': 1, '983': 1, '526': 1, '540': 1, '741': 1, '771': 1, '266': 1, '265': 1, '217': 1, '626': 1, '361': 1, '110': 1, '791': 1, '1310': 1, '548': 1, '1034': 1, '554': 1, '1300': 1, '648': 1, '305': 1, '145': 1, '416': 1, '142': 1, '1171': 1, '567': 1, '1282': 1, '487': 1, '990': 1, '111': 1, '668': 1, '323': 1, '1176': 1, '324': 1, '1337': 1, '029': 1, '778': 1, '738': 1, '6': 1, '891': 1, '897': 1, '2': 1, '304': 1, '1178': 1, '108': 1, '1040': 1, '770': 1, '2179': 1, '592': 1, '940': 1, '7225': 1, '171': 1, '113': 1, '576': 1, '555': 1, '774': 1, '877': 1, '7243': 1, '460': 1, '115': 1, '585': 1, '238': 1, '356': 1}\n"
     ]
    }
   ],
   "source": [
    "print(high_traffic_routes)"
   ]
  },
  {
   "cell_type": "markdown",
   "id": "55ce2a77-98f8-42f5-8df1-ed7226abc986",
   "metadata": {},
   "source": [
    "### External Data Collection (Weather, Holidays & Seasonal Factors)"
   ]
  },
  {
   "cell_type": "code",
   "execution_count": 16,
   "id": "90821db6-eacc-4a98-b782-48a834ae623a",
   "metadata": {},
   "outputs": [],
   "source": [
    "class ExternalDataCollector:\n",
    "    def __init__(self):\n",
    "        # Processes weather data from 'api.weather.gc.ca' and public holidays for later use\n",
    "        \n",
    "        self.weather_api = \"https://api.weather.gc.ca\"\n",
    "        self.holidays_2025 = [\n",
    "            \"2025-01-01\",  # New Year's Day\n",
    "            \"2025-04-18\",  # Good Friday\n",
    "            \"2025-05-19\",  # Victoria Day\n",
    "            \"2025-07-01\",  # Canada Day\n",
    "            \"2025-09-01\",  # Labour Day\n",
    "            \"2025-10-13\",  # Thanksgiving\n",
    "            \"2025-11-11\",  # Remembrance Day\n",
    "            \"2025-12-25\",  # Christmas Day\n",
    "            \"2025-12-26\"   # Boxing Day\n",
    "        ]\n",
    "    \n",
    "    def get_weather_data(self, airport_code, date):\n",
    "        \"\"\"Gets weather data for specific airports for specific dates\"\"\"\n",
    "        \n",
    "        weather_data = {\n",
    "            \"airport\": airport_code,\n",
    "            \"date\": date,\n",
    "            \"temperature\": None,\n",
    "            \"percipitation\": None,\n",
    "            \"visibility\": None,\n",
    "            \"wind_speed\": None,\n",
    "            \"conditions\": None\n",
    "        }\n",
    "        return weather_data\n",
    "\n",
    "\n",
    "    def is_holiday(self, date):\n",
    "        \"\"\"Checks if the specific date is a holiday or not\"\"\"\n",
    "        \n",
    "        date_str = date.strftime(\"%Y-%m-%d\")\n",
    "        return date_str in self.holidays_2025\n",
    "\n",
    "    def get_seasonal_factors(self, date):\n",
    "        \"\"\"Gets seasonal adjustment factors\"\"\"\n",
    "        \n",
    "        month = date.month\n",
    "        seasons = {\n",
    "            \"winter_months\": [12, 1, 2],\n",
    "            \"spring_months\": [3, 4, 5],\n",
    "            \"summer_months\": [6, 7, 8],\n",
    "            \"fall_months\": [9, 10, 11]\n",
    "        }\n",
    "\n",
    "        for season, months in seasons.items():\n",
    "            if month in months:\n",
    "                return season\n",
    "            else:\n",
    "                return \"Unknown\""
   ]
  },
  {
   "cell_type": "code",
   "execution_count": 18,
   "id": "1f9c2676-8d39-4f28-932f-dd0fd33c5cd6",
   "metadata": {},
   "outputs": [],
   "source": [
    "# Creating ExternalDataCollector object\n",
    "\n",
    "external_collector = ExternalDataCollector()"
   ]
  },
  {
   "cell_type": "markdown",
   "id": "48f9bc15-1855-4f12-95cf-b4a66fd71be5",
   "metadata": {},
   "source": [
    "### Passenger Booking Pattern Simulator"
   ]
  },
  {
   "cell_type": "code",
   "execution_count": 21,
   "id": "1b07c4d4-f7ee-4065-89c7-06bee61705eb",
   "metadata": {},
   "outputs": [],
   "source": [
    "# Realistic Passenger Booking Simulation since I don't have access to real passenger data immediately\n",
    "\n",
    "class PassengerBookingSimulator:\n",
    "    def __init__(self):\n",
    "        # Passenger booking features that affects no-show probability\n",
    "        \n",
    "        self.fare_class = [\"Basic\", \"Standard\", \"Flex\", \"Premium\", \"Business\"]\n",
    "        self.advance_purchase_window = [1, 7, 14, 30, 60, 90]  # Time in days\n",
    "        self.passenger_types = [\"Business\", \"Leisure\", \"VFR\"]\n",
    "\n",
    "    def generate_booking_data(self, flight_info, num_of_passengers):\n",
    "        \"\"\"Generates realistic passenger booking data for a flight\"\"\"\n",
    "        \n",
    "        passengers = []\n",
    "\n",
    "        for i in range(0, num_passengers= 200):\n",
    "            # Generates passenger features that research shows affect no-show rates\n",
    "\n",
    "            advance_purchase = random.choice(self.advance_purchase_window)\n",
    "            fare_class = random.choice(self.fare_class)\n",
    "            passenger_type = random.choice(self.passenger_type)\n",
    "\n",
    "            # Factors that co-relate with no-show probability according to research (https://citeseerx.ist.psu.edu/document?repid=rep1&type=pdf&doi=d3572abdaf3d12bd8e85471b1b217c495f7662d9)\n",
    "            base_no_show_probability = 0.1  # According to industry average (5%-15%)\n",
    "\n",
    "            if advance_purchase <= 7:\n",
    "                base_no_show_prob *= 0.7  # Last-minute bookings are less likely to be a no-show\n",
    "\n",
    "            if fare_class in [\"Premium\", \"Business\"]:\n",
    "                base_no_show_prob *= 0.5  # Premium and Business bookings are less likely to be a no-show\n",
    "\n",
    "            if passenger_type == \"Business\":\n",
    "                base_no_show_prob *= 0.6  # Passengers travelling for business are less likely to be a no-show\n",
    "\n",
    "            passenger = {\n",
    "                \"passenger_id\": f\"PAX_{flight_info['callsign']}_{i:03d}\",\n",
    "                \"flight_callsign\": flight_info[\"callsign\"],\n",
    "                \"booking_data\": datetime.now() - timedelta(days= advance_purchase),\n",
    "                \"advance_purchase_days\": advance_purchase,\n",
    "                \"fare_class\": fare_class,\n",
    "                \"passenger_type\": passenger_type,\n",
    "                \"predicted_no_show_prob\": min(base_no_show, 0.15),  # Caps at 15%\n",
    "                \"actual_no_show\": random.random() > base_no_show_prob\n",
    "            }\n",
    "            passengers.append(passenger)\n",
    "\n",
    "        return pd.DataFrame(passengers)"
   ]
  },
  {
   "cell_type": "code",
   "execution_count": 23,
   "id": "107def24-a63d-42bf-b46f-64c7c5d064ba",
   "metadata": {},
   "outputs": [],
   "source": [
    "# Creating PassengerBookingSimulation object\n",
    "\n",
    "passenger_simulation = PassengerBookingSimulator()"
   ]
  },
  {
   "cell_type": "markdown",
   "id": "231462ec-80c4-4c60-bb97-89b07794c0fc",
   "metadata": {},
   "source": [
    "### Building a data collection pipeline"
   ]
  },
  {
   "cell_type": "code",
   "execution_count": 26,
   "id": "9e6e299b-2850-4d9c-94b7-9d4fe8cdf79b",
   "metadata": {},
   "outputs": [],
   "source": [
    "# AirCanadaPipeline class collects real-time flight details, analyzes the routes, collects external data for each flight and predicts the no show rate"
   ]
  },
  {
   "cell_type": "code",
   "execution_count": 37,
   "id": "2dfdc6df-f8fe-4abe-a84b-2294848520fc",
   "metadata": {},
   "outputs": [],
   "source": [
    "class AirCanadaPipeline:\n",
    "\n",
    "    def __init__(self):\n",
    "        \n",
    "        # Initializing all the objects\n",
    "        self.flight_collector = AirCanadaDataCollector()\n",
    "        self.route_collector = AirCanadaRoute()\n",
    "        self.external_data_collector = ExternalDataCollector()\n",
    "        self.passenger_simulator = PassengerDataSimulator()\n",
    "\n",
    "    # Collect real-time flight details\n",
    "    # Analyze the routes for the flights\n",
    "    # Collect external data for each flights"
   ]
  },
  {
   "cell_type": "code",
   "execution_count": null,
   "id": "b2180595-2b49-49e9-9fa1-5f2e89ba5ac6",
   "metadata": {},
   "outputs": [],
   "source": []
  }
 ],
 "metadata": {
  "kernelspec": {
   "display_name": "Python (env)",
   "language": "python",
   "name": "env"
  },
  "language_info": {
   "codemirror_mode": {
    "name": "ipython",
    "version": 3
   },
   "file_extension": ".py",
   "mimetype": "text/x-python",
   "name": "python",
   "nbconvert_exporter": "python",
   "pygments_lexer": "ipython3",
   "version": "3.10.11"
  }
 },
 "nbformat": 4,
 "nbformat_minor": 5
}

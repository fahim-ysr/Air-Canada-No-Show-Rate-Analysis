{
 "cells": [
  {
   "cell_type": "code",
   "execution_count": 1,
   "id": "c1154e76-ea1b-4b82-b891-e095d32e649f",
   "metadata": {},
   "outputs": [],
   "source": [
    "# Using Aviation Edge and OpenSky APIs for historical data analysis"
   ]
  },
  {
   "cell_type": "code",
   "execution_count": 2,
   "id": "9fefc977-1775-44fa-a033-b5517e162e0f",
   "metadata": {},
   "outputs": [],
   "source": [
    "# Importing modules\n",
    "\n",
    "import requests\n",
    "import pandas as pd\n",
    "import nest_asyncio\n",
    "import asyncio\n",
    "from datetime import datetime, timedelta\n",
    "import time"
   ]
  },
  {
   "cell_type": "code",
   "execution_count": 11,
   "id": "c90b4d2a-6af1-4ac5-bb2d-7fd13604d74b",
   "metadata": {},
   "outputs": [
    {
     "name": "stdout",
     "output_type": "stream",
     "text": [
      "Collected 98 current Air Canada flights\n",
      "                    timestamp callsign  icao24  longitude  latitude  altitude  \\\n",
      "0  2025-06-28 15:52:05.344948  ACA1307  c07c7b   -83.1113   36.0849  10660.38   \n",
      "1  2025-06-28 15:52:05.344948  ACA1072  c07c7a   -79.7097   43.6166   9448.80   \n",
      "2  2025-06-28 15:52:05.344948  ACA1040  c07e2c   -96.6950   41.3451  11277.60   \n",
      "3  2025-06-28 15:52:05.344948   ACA732  c07e32   -73.9071   44.4442   6370.32   \n",
      "4  2025-06-28 15:52:05.344948   ACA839  c0103e  -123.1824   49.1957       NaN   \n",
      "..                        ...      ...     ...        ...       ...       ...   \n",
      "93 2025-06-28 15:52:05.344948   ACA895  c04fbb   -71.4433   46.6397   9639.30   \n",
      "94 2025-06-28 15:52:05.344948   ACA825  c04fe4   -76.9882   44.7990  10744.20   \n",
      "95 2025-06-28 15:52:05.344948  ACA1048  c00700   -96.5559   43.3696  10675.62   \n",
      "96 2025-06-28 15:52:05.344948   ACA608  c005c5   -67.4309   44.3757  10668.00   \n",
      "97 2025-06-28 15:52:05.344948   ACA211  c00757  -113.9925   51.1112       NaN   \n",
      "\n",
      "    velocity  heading  vertical_rate  on_ground  \n",
      "0     244.07   216.17          -0.33      False  \n",
      "1     255.73    81.79           0.00      False  \n",
      "2     253.30    71.16          -0.33      False  \n",
      "3     205.99   177.42           6.83      False  \n",
      "4       1.03   205.31            NaN       True  \n",
      "..       ...      ...            ...        ...  \n",
      "93    221.09   227.92          -4.88      False  \n",
      "94    213.91   241.09          -4.55      False  \n",
      "95    240.69   113.83           0.00      False  \n",
      "96    263.74    82.27           0.33      False  \n",
      "97      0.77    90.00            NaN       True  \n",
      "\n",
      "[98 rows x 10 columns]\n"
     ]
    }
   ],
   "source": [
    "# Setting up OpenSky\n",
    "\n",
    "from python_opensky import OpenSky\n",
    "nest_asyncio.apply()\n",
    "\n",
    "class AirCanadaDataCollector:\n",
    "    def __init__(self):\n",
    "        self.flight_data = []\n",
    "        self.historical_data = pd.DataFrame()   #Dataframe for storing Air Canada Flights\n",
    "    \n",
    "    async def collect_realtime_flights(self):\n",
    "        \"\"\"Collects current Air Canada flight data\"\"\"\n",
    "        async with OpenSky() as opensky:\n",
    "            \n",
    "            # Getting most recent flight data\n",
    "            states = await opensky.get_states()\n",
    "            \n",
    "            ac_flights = []\n",
    "\n",
    "            # Filtering to get Air Canada flight data only\n",
    "            for state in states.states:\n",
    "                if state.callsign and state.callsign.strip().startswith('ACA'):\n",
    "                    flight_info = {\n",
    "                        'timestamp': datetime.now(),\n",
    "                        'callsign': state.callsign.strip(),\n",
    "                        'icao24': state.icao24,\n",
    "                        'longitude': state.longitude,\n",
    "                        'latitude': state.latitude,\n",
    "                        'altitude': state.barometric_altitude,\n",
    "                        'velocity': state.velocity,\n",
    "                        'heading': state.true_track,\n",
    "                        'vertical_rate': state.vertical_rate,\n",
    "                        'on_ground': state.on_ground\n",
    "                    }\n",
    "\n",
    "                    # Adds the current Air Canada flight details to the list\n",
    "                    ac_flights.append(flight_info)\n",
    "            \n",
    "            return pd.DataFrame(ac_flights)\n",
    "    \n",
    "    async def collect_historical_flights(self, start_time, end_time):\n",
    "        \"\"\"Collects historical flight data for a specific time range\"\"\"\n",
    "        async with OpenSky() as opensky:\n",
    "            # OpenSky provides historical data access\n",
    "            flights = await opensky.get_flights_by_aircraft(\n",
    "                begin=int(start_time.timestamp()),\n",
    "                end=int(end_time.timestamp())\n",
    "            )\n",
    "            return flights\n",
    "\n",
    "# Initializes collector object\n",
    "collector = AirCanadaDataCollector()\n",
    "\n",
    "# Collectes current flights\n",
    "current_flights = await collector.collect_realtime_flights()\n",
    "print(f\"Collected {len(current_flights)} current Air Canada flights\")\n",
    "print(current_flights)"
   ]
  },
  {
   "cell_type": "code",
   "execution_count": null,
   "id": "4adbac66-9a07-49a9-a016-d17466a77978",
   "metadata": {},
   "outputs": [],
   "source": []
  }
 ],
 "metadata": {
  "kernelspec": {
   "display_name": "Python (env)",
   "language": "python",
   "name": "env"
  },
  "language_info": {
   "codemirror_mode": {
    "name": "ipython",
    "version": 3
   },
   "file_extension": ".py",
   "mimetype": "text/x-python",
   "name": "python",
   "nbconvert_exporter": "python",
   "pygments_lexer": "ipython3",
   "version": "3.10.11"
  }
 },
 "nbformat": 4,
 "nbformat_minor": 5
}
